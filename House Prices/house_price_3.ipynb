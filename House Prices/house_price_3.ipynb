{
 "cells": [
  {
   "cell_type": "code",
   "execution_count": 7,
   "metadata": {},
   "outputs": [],
   "source": [
    "import numpy as np\n",
    "import pandas as pd\n",
    "\n",
    "train_df = pd.read_csv('./input/train.csv', index_col=0)\n",
    "test_df = pd.read_csv('./input/test.csv', index_col=0)\n",
    "train_df['MSSubClass'] = train_df['MSSubClass'].astype(str)\n",
    "train_df['MoSold'] = train_df['MoSold'].astype(str)\n",
    "\n",
    "y_train = np.log1p(train_df.pop('SalePrice'))\n",
    "all_df = pd.concat((train_df, test_df), axis=0)\n",
    "\n",
    "num_cols = all_df.columns[all_df.dtypes != 'object']\n",
    "cat_cols = all_df.columns[all_df.dtypes == 'object']\n",
    "all_df[cat_cols]=all_df[cat_cols].fillna('none')"
   ]
  },
  {
   "cell_type": "code",
   "execution_count": 8,
   "metadata": {},
   "outputs": [],
   "source": [
    "from sklearn.preprocessing import LabelEncoder\n",
    "\n",
    "for c in cat_cols:\n",
    "    lbl = LabelEncoder() \n",
    "    lbl.fit(list(all_df[c].values)) \n",
    "    all_df[c] = lbl.transform(list(all_df[c].values))"
   ]
  },
  {
   "cell_type": "code",
   "execution_count": 9,
   "metadata": {},
   "outputs": [
    {
     "name": "stderr",
     "output_type": "stream",
     "text": [
      "/Library/Frameworks/Python.framework/Versions/3.6/lib/python3.6/site-packages/sklearn/utils/deprecation.py:58: DeprecationWarning: Class Imputer is deprecated; Imputer was deprecated in version 0.20 and will be removed in 0.22. Import impute.SimpleImputer from sklearn instead.\n",
      "  warnings.warn(msg, category=DeprecationWarning)\n"
     ]
    }
   ],
   "source": [
    "from sklearn.pipeline import Pipeline\n",
    "from sklearn.preprocessing import StandardScaler\n",
    "from sklearn.preprocessing import Imputer\n",
    "\n",
    "num_pipeline = Pipeline([\n",
    "       ('imputer', Imputer(strategy=\"median\")),\n",
    "       ('std_scaler', StandardScaler()),\n",
    "   ])\n",
    "\n",
    "housing_num_tr = num_pipeline.fit_transform(all_df)"
   ]
  },
  {
   "cell_type": "code",
   "execution_count": 11,
   "metadata": {},
   "outputs": [
    {
     "data": {
      "text/plain": [
       "array([[ 0.77493987, -0.04603831, -0.19181473, ...,  0.15764553,\n",
       "         0.31905275,  0.20496713],\n",
       "       [-0.57715187, -0.04603831,  0.51193993, ..., -0.60296158,\n",
       "         0.31905275,  0.20496713],\n",
       "       [ 0.77493987, -0.04603831, -0.0510638 , ...,  0.15764553,\n",
       "         0.31905275,  0.20496713],\n",
       "       ...,\n",
       "       [-0.57715187, -0.04603831,  4.26529811, ..., -1.36356868,\n",
       "         0.31905275, -3.50541458],\n",
       "       [ 1.85661327, -0.04603831, -0.33256567, ..., -1.36356868,\n",
       "         0.31905275,  0.20496713],\n",
       "       [ 0.77493987, -0.04603831,  0.23043806, ..., -1.36356868,\n",
       "         0.31905275,  0.20496713]])"
      ]
     },
     "execution_count": 11,
     "metadata": {},
     "output_type": "execute_result"
    }
   ],
   "source": [
    "housing_num_tr\n"
   ]
  },
  {
   "cell_type": "code",
   "execution_count": 10,
   "metadata": {},
   "outputs": [
    {
     "data": {
      "text/plain": [
       "(2919, 79)"
      ]
     },
     "execution_count": 10,
     "metadata": {},
     "output_type": "execute_result"
    }
   ],
   "source": [
    "housing_num_tr.shape"
   ]
  },
  {
   "cell_type": "code",
   "execution_count": 15,
   "metadata": {},
   "outputs": [
    {
     "ename": "AttributeError",
     "evalue": "'numpy.ndarray' object has no attribute 'loc'",
     "output_type": "error",
     "traceback": [
      "\u001b[0;31m---------------------------------------------------------------------------\u001b[0m",
      "\u001b[0;31mAttributeError\u001b[0m                            Traceback (most recent call last)",
      "\u001b[0;32m<ipython-input-15-0a61a1d74aa1>\u001b[0m in \u001b[0;36m<module>\u001b[0;34m\u001b[0m\n\u001b[1;32m      1\u001b[0m \u001b[0;31m#拆分训练集和测试集\u001b[0m\u001b[0;34m\u001b[0m\u001b[0;34m\u001b[0m\u001b[0m\n\u001b[0;32m----> 2\u001b[0;31m \u001b[0mdummy_train_df\u001b[0m \u001b[0;34m=\u001b[0m \u001b[0mhousing_num_tr\u001b[0m\u001b[0;34m.\u001b[0m\u001b[0mloc\u001b[0m\u001b[0;34m[\u001b[0m\u001b[0mtrain_df\u001b[0m\u001b[0;34m.\u001b[0m\u001b[0mindex\u001b[0m\u001b[0;34m]\u001b[0m\u001b[0;34m\u001b[0m\u001b[0m\n\u001b[0m\u001b[1;32m      3\u001b[0m \u001b[0mdummy_test_df\u001b[0m \u001b[0;34m=\u001b[0m \u001b[0mhousing_num_tr\u001b[0m\u001b[0;34m.\u001b[0m\u001b[0mloc\u001b[0m\u001b[0;34m[\u001b[0m\u001b[0mtest_df\u001b[0m\u001b[0;34m.\u001b[0m\u001b[0mindex\u001b[0m\u001b[0;34m]\u001b[0m\u001b[0;34m\u001b[0m\u001b[0m\n\u001b[1;32m      4\u001b[0m \u001b[0mdummy_train_df\u001b[0m\u001b[0;34m.\u001b[0m\u001b[0mshape\u001b[0m\u001b[0;34m,\u001b[0m \u001b[0mdummy_test_df\u001b[0m\u001b[0;34m.\u001b[0m\u001b[0mshape\u001b[0m\u001b[0;34m\u001b[0m\u001b[0m\n",
      "\u001b[0;31mAttributeError\u001b[0m: 'numpy.ndarray' object has no attribute 'loc'"
     ]
    }
   ],
   "source": [
    "#拆分训练集和测试集\n",
    "dummy_train_df = housing_num_tr.loc[train_df.index]\n",
    "dummy_test_df = housing_num_tr.loc[test_df.index]\n",
    "dummy_train_df.shape, dummy_test_df.shape\n"
   ]
  },
  {
   "cell_type": "code",
   "execution_count": 30,
   "metadata": {},
   "outputs": [
    {
     "data": {
      "text/plain": [
       "(1460, 79)"
      ]
     },
     "execution_count": 30,
     "metadata": {},
     "output_type": "execute_result"
    }
   ],
   "source": [
    "dummy_train_df=housing_num_tr[0:train_df.shape[0]]\n",
    "dummy_train_df.shape"
   ]
  },
  {
   "cell_type": "code",
   "execution_count": 31,
   "metadata": {},
   "outputs": [
    {
     "data": {
      "text/plain": [
       "(1459, 79)"
      ]
     },
     "execution_count": 31,
     "metadata": {},
     "output_type": "execute_result"
    }
   ],
   "source": [
    "dummy_test_df=housing_num_tr[train_df.shape[0]:len(housing_num_tr)]\n",
    "dummy_test_df.shape"
   ]
  },
  {
   "cell_type": "code",
   "execution_count": 63,
   "metadata": {},
   "outputs": [],
   "source": [
    "#回归岭算法\n",
    "from sklearn.linear_model import Ridge\n",
    "from sklearn.model_selection import cross_val_score\n",
    "X_train = dummy_train_df\n",
    "X_test = dummy_test_df\n",
    "\n",
    "alphas = np.logspace(-2, 3, 200)\n",
    "test_scores_ridge = []\n",
    "for alpha in alphas:\n",
    "    clf = Ridge(alpha)\n",
    "    test_score_ridge = np.sqrt(-cross_val_score(clf, X_train, y_train, cv=10, scoring='neg_mean_squared_error'))\n",
    "    test_scores_ridge.append(np.mean(test_score_ridge))"
   ]
  },
  {
   "cell_type": "code",
   "execution_count": 64,
   "metadata": {},
   "outputs": [
    {
     "data": {
      "image/png": "[encoded data removed]",
      "text/plain": [
       "<Figure size 432x288 with 1 Axes>"
      ]
     },
     "metadata": {
      "needs_background": "light"
     },
     "output_type": "display_data"
    }
   ],
   "source": [
    "import matplotlib.pyplot as plt\n",
    "%matplotlib inline\n",
    "plt.plot(alphas, test_scores_ridge)\n",
    "plt.title(\"Alphaaaa vs CV Error\");"
   ]
  },
  {
   "cell_type": "code",
   "execution_count": 39,
   "metadata": {},
   "outputs": [
    {
     "data": {
      "image/png": "[encoded data removed]",
      "text/plain": [
       "<Figure size 432x288 with 1 Axes>"
      ]
     },
     "metadata": {
      "needs_background": "light"
     },
     "output_type": "display_data"
    }
   ],
   "source": [
    "#随机森林\n",
    "from sklearn.ensemble import RandomForestRegressor\n",
    "max_features = [.1, .3, .5, .7, .9, .99]\n",
    "test_scores = []\n",
    "for max_feat in max_features:\n",
    "    clf = RandomForestRegressor(n_estimators=200, max_features=max_feat)\n",
    "    test_score = np.sqrt(-cross_val_score(clf, X_train, y_train, cv=5, scoring='neg_mean_squared_error'))\n",
    "    test_scores.append(np.mean(test_score))\n",
    "\n",
    "plt.plot(max_features, test_scores)\n",
    "plt.title(\"Max Features vs CV Error\");"
   ]
  },
  {
   "cell_type": "code",
   "execution_count": 40,
   "metadata": {},
   "outputs": [
    {
     "data": {
      "image/png": "[encoded data removed]",
      "text/plain": [
       "<Figure size 432x288 with 1 Axes>"
      ]
     },
     "metadata": {
      "needs_background": "light"
     },
     "output_type": "display_data"
    }
   ],
   "source": [
    "#XGBoost\n",
    "from xgboost import XGBRegressor\n",
    "params = [1,2,3,4,5,6]\n",
    "test_scores = []\n",
    "for param in params:\n",
    "    clf = XGBRegressor(max_depth=param)\n",
    "    test_score = np.sqrt(-cross_val_score(clf, X_train, y_train, cv=10, scoring='neg_mean_squared_error'))\n",
    "    test_scores.append(np.mean(test_score))\n",
    "    \n",
    "plt.plot(params, test_scores)\n",
    "plt.title(\"max_depth vs CV Error\");"
   ]
  },
  {
   "cell_type": "code",
   "execution_count": 41,
   "metadata": {},
   "outputs": [],
   "source": [
    "clf = XGBRegressor(max_depth=4)\n",
    "clf.fit(X_train, y_train)\n",
    "y_clf = np.expm1(clf.predict(X_test))"
   ]
  },
  {
   "cell_type": "code",
   "execution_count": 43,
   "metadata": {},
   "outputs": [],
   "source": [
    "submission_df = pd.DataFrame(data= {'Id' : test_df.index, 'SalePrice': y_clf})\n",
    "submission_df.to_csv(\"./output/house_price_190211_1106.csv\",index=False)"
   ]
  },
  {
   "cell_type": "code",
   "execution_count": 48,
   "metadata": {},
   "outputs": [
    {
     "data": {
      "text/plain": [
       "[0.15031460970396862,\n",
       " 0.15031460435101923,\n",
       " 0.15031459867925445,\n",
       " 0.15031459266968641,\n",
       " 0.15031458630219638,\n",
       " 0.15031457955546793,\n",
       " 0.15031457240691443,\n",
       " 0.15031456483260475,\n",
       " 0.15031455680718225,\n",
       " 0.1503145483037803,\n",
       " 0.15031453929393246,\n",
       " 0.1503145297474769,\n",
       " 0.15031451963245557,\n",
       " 0.1503145089150076,\n",
       " 0.15031449755925547,\n",
       " 0.15031448552718513,\n",
       " 0.1503144727785189,\n",
       " 0.1503144592705808,\n",
       " 0.15031444495815335,\n",
       " 0.1503144297933267,\n",
       " 0.15031441372533824,\n",
       " 0.15031439670040242,\n",
       " 0.15031437866153138,\n",
       " 0.15031435954834382,\n",
       " 0.15031433929686333,\n",
       " 0.1503143178393043,\n",
       " 0.15031429510384503,\n",
       " 0.15031427101438785,\n",
       " 0.15031424549030442,\n",
       " 0.15031421844616585,\n",
       " 0.15031418979145778,\n",
       " 0.15031415943027676,\n",
       " 0.1503141272610104,\n",
       " 0.1503140931759972,\n",
       " 0.15031405706116702,\n",
       " 0.15031401879565934,\n",
       " 0.1503139782514197,\n",
       " 0.15031393529277173,\n",
       " 0.15031388977596352,\n",
       " 0.1503138415486875,\n",
       " 0.15031379044957172,\n",
       " 0.15031373630764072,\n",
       " 0.15031367894174452,\n",
       " 0.15031361815995364,\n",
       " 0.15031355375891836,\n",
       " 0.15031348552318993,\n",
       " 0.1503134132245013,\n",
       " 0.1503133366210057,\n",
       " 0.1503132554564694,\n",
       " 0.15031316945941706,\n",
       " 0.15031307834222668,\n",
       " 0.15031298180017005,\n",
       " 0.15031287951039757,\n",
       " 0.15031277113086194,\n",
       " 0.15031265629917895,\n",
       " 0.15031253463141991,\n",
       " 0.1503124057208342,\n",
       " 0.1503122691364946,\n",
       " 0.15031212442186398,\n",
       " 0.15031197109327663,\n",
       " 0.1503118086383302,\n",
       " 0.15031163651418294,\n",
       " 0.15031145414575015,\n",
       " 0.15031126092379482,\n",
       " 0.1503110562029059,\n",
       " 0.15031083929935724,\n",
       " 0.150310609488841,\n",
       " 0.15031036600406839,\n",
       " 0.15031010803222816,\n",
       " 0.1503098347122979,\n",
       " 0.1503095451321967,\n",
       " 0.15030923832577162,\n",
       " 0.15030891326960796,\n",
       " 0.15030856887965308,\n",
       " 0.1503082040076442,\n",
       " 0.1503078174373268,\n",
       " 0.15030740788045432,\n",
       " 0.15030697397255546,\n",
       " 0.15030651426845493,\n",
       " 0.15030602723753633,\n",
       " 0.15030551125873093,\n",
       " 0.15030496461521664,\n",
       " 0.15030438548881306,\n",
       " 0.15030377195405353,\n",
       " 0.15030312197191842,\n",
       " 0.15030243338320934,\n",
       " 0.15030170390154599,\n",
       " 0.15030093110596449,\n",
       " 0.15030011243309618,\n",
       " 0.15029924516890408,\n",
       " 0.15029832643995394,\n",
       " 0.15029735320419482,\n",
       " 0.15029632224122416,\n",
       " 0.15029523014201054,\n",
       " 0.15029407329804573,\n",
       " 0.15029284788989875,\n",
       " 0.1502915498751389,\n",
       " 0.15029017497560063,\n",
       " 0.15028871866395438,\n",
       " 0.15028717614955275,\n",
       " 0.15028554236351535,\n",
       " 0.15028381194301915,\n",
       " 0.1502819792147569,\n",
       " 0.15028003817752644,\n",
       " 0.15027798248391327,\n",
       " 0.15027580542102856,\n",
       " 0.15027349989026195,\n",
       " 0.15027105838601232,\n",
       " 0.15026847297335452,\n",
       " 0.15026573526460524,\n",
       " 0.15026283639474775,\n",
       " 0.1502597669956784,\n",
       " 0.15025651716923755,\n",
       " 0.15025307645899125,\n",
       " 0.15024943382072822,\n",
       " 0.15024557759164497,\n",
       " 0.15024149545819016,\n",
       " 0.15023717442254617,\n",
       " 0.15023260076773082,\n",
       " 0.15022776002130755,\n",
       " 0.1502226369176991,\n",
       " 0.15021721535910898,\n",
       " 0.1502114783750641,\n",
       " 0.1502054080806043,\n",
       " 0.15019898563315398,\n",
       " 0.15019219118812993,\n",
       " 0.15018500385335465,\n",
       " 0.1501774016423612,\n",
       " 0.15016936142670106,\n",
       " 0.15016085888738748,\n",
       " 0.15015186846563527,\n",
       " 0.1501423633130882,\n",
       " 0.15013231524175846,\n",
       " 0.15012169467394132,\n",
       " 0.15011047059240654,\n",
       " 0.15009861049121778,\n",
       " 0.15008608032757823,\n",
       " 0.15007284447515595,\n",
       " 0.1500588656794034,\n",
       " 0.15004410501544885,\n",
       " 0.15002852184920693,\n",
       " 0.1500120738024329,\n",
       " 0.14999471672252251,\n",
       " 0.14997640465794598,\n",
       " 0.14995708984029493,\n",
       " 0.14993672267401573,\n",
       " 0.14991525173499956,\n",
       " 0.14989262377930268,\n",
       " 0.14986878376337495,\n",
       " 0.1498436748772758,\n",
       " 0.1498172385924662,\n",
       " 0.1497894147258629,\n",
       " 0.14976014152194167,\n",
       " 0.14972935575476595,\n",
       " 0.14969699285189797,\n",
       " 0.14966298704221823,\n",
       " 0.14962727152972954,\n",
       " 0.1495897786954521,\n",
       " 0.14955044032952092,\n",
       " 0.14950918789557116,\n",
       " 0.1494659528294366,\n",
       " 0.14942066687408354,\n",
       " 0.14937326245255653,\n",
       " 0.14932367308051145,\n",
       " 0.14927183381965756,\n",
       " 0.14921768177311412,\n",
       " 0.14916115662330331,\n",
       " 0.14910220121255865,\n",
       " 0.14904076216610498,\n",
       " 0.14897679055648766,\n",
       " 0.14891024260787275,\n",
       " 0.1488410804379338,\n",
       " 0.14876927283427416,\n",
       " 0.14869479606153116,\n",
       " 0.14861763469447317,\n",
       " 0.14853778247155974,\n",
       " 0.14845524316260278,\n",
       " 0.14837003144336597,\n",
       " 0.14828217376920955,\n",
       " 0.1481917092392343,\n",
       " 0.14809869044185958,\n",
       " 0.14800318427238923,\n",
       " 0.14790527271292642,\n",
       " 0.14780505356500798,\n",
       " 0.14770264112556544,\n",
       " 0.1475981667973091,\n",
       " 0.14749177962536691,\n",
       " 0.14738364675300977,\n",
       " 0.14727395379054267,\n",
       " 0.14716290509291424,\n",
       " 0.1470507239432811,\n",
       " 0.14693765264160513,\n",
       " 0.1468239524993229,\n",
       " 0.1467099037431498,\n",
       " 0.1465958053331107,\n",
       " 0.14648197470185625,\n",
       " 0.14636874742417705,\n",
       " 0.14625647682730566,\n",
       " 0.14614553355404733,\n",
       " 0.14603630509196758]"
      ]
     },
     "execution_count": 48,
     "metadata": {},
     "output_type": "execute_result"
    }
   ],
   "source": [
    "test_scores_ridge"
   ]
  },
  {
   "cell_type": "code",
   "execution_count": 52,
   "metadata": {},
   "outputs": [
    {
     "data": {
      "text/plain": [
       "(200, 200)"
      ]
     },
     "execution_count": 52,
     "metadata": {},
     "output_type": "execute_result"
    }
   ],
   "source": [
    "len(test_scores_ridge),len(alphas)"
   ]
  },
  {
   "cell_type": "code",
   "execution_count": null,
   "metadata": {},
   "outputs": [],
   "source": []
  }
 ],
 "metadata": {
  "kernelspec": {
   "display_name": "Python 3",
   "language": "python",
   "name": "python3"
  },
  "language_info": {
   "codemirror_mode": {
    "name": "ipython",
    "version": 3
   },
   "file_extension": ".py",
   "mimetype": "text/x-python",
   "name": "python",
   "nbconvert_exporter": "python",
   "pygments_lexer": "ipython3",
   "version": "3.6.0"
  }
 },
 "nbformat": 4,
 "nbformat_minor": 2
}
